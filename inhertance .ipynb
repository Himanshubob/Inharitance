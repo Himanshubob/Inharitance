{
 "cells": [
  {
   "cell_type": "code",
   "execution_count": 1,
   "id": "112768cc",
   "metadata": {},
   "outputs": [],
   "source": [
    "class User:\n",
    "    def login(self):\n",
    "        print(\"login\")\n",
    "    def register(self):\n",
    "        print(\"register\")\n",
    "class Student(User):\n",
    "    def enroll(self):\n",
    "        print(\"enroll\")\n",
    "    def review(self):\n",
    "        print(\"review\")\n",
    "        "
   ]
  },
  {
   "cell_type": "code",
   "execution_count": 2,
   "id": "eaefd8ee",
   "metadata": {},
   "outputs": [],
   "source": [
    "st1=Student()"
   ]
  },
  {
   "cell_type": "code",
   "execution_count": 3,
   "id": "6429fd56",
   "metadata": {},
   "outputs": [
    {
     "name": "stdout",
     "output_type": "stream",
     "text": [
      "enroll\n",
      "login\n",
      "register\n",
      "review\n"
     ]
    }
   ],
   "source": [
    "st1.enroll()\n",
    "st1.login()\n",
    "st1.register()\n",
    "st1.review()"
   ]
  },
  {
   "cell_type": "code",
   "execution_count": 7,
   "id": "3c104529",
   "metadata": {},
   "outputs": [
    {
     "name": "stdout",
     "output_type": "stream",
     "text": [
      "inside phone constuctor\n"
     ]
    }
   ],
   "source": [
    "class Phone:\n",
    "    def __init__(self,price,brand,camera):\n",
    "        print(\"inside phone constuctor\")\n",
    "        self.price=price\n",
    "        self.brand=brand\n",
    "        self.camera=camera\n",
    "    def buy(self):\n",
    "        print(\"Buying a phone\")\n",
    "    def return_phone(self):\n",
    "        print(\"Returning a phone\")\n",
    "class FeaturePhone(Phone):\n",
    "    pass\n",
    "class SmartPhone(Phone):\n",
    "    pass\n",
    "s=SmartPhone(20000,\"aplle\",\"13mg\")"
   ]
  },
  {
   "cell_type": "code",
   "execution_count": 8,
   "id": "2a7e8647",
   "metadata": {},
   "outputs": [
    {
     "data": {
      "text/plain": [
       "'13mg'"
      ]
     },
     "execution_count": 8,
     "metadata": {},
     "output_type": "execute_result"
    }
   ],
   "source": [
    "s.camera"
   ]
  },
  {
   "cell_type": "code",
   "execution_count": null,
   "id": "d26daab9",
   "metadata": {},
   "outputs": [],
   "source": []
  }
 ],
 "metadata": {
  "kernelspec": {
   "display_name": "Python 3 (ipykernel)",
   "language": "python",
   "name": "python3"
  },
  "language_info": {
   "codemirror_mode": {
    "name": "ipython",
    "version": 3
   },
   "file_extension": ".py",
   "mimetype": "text/x-python",
   "name": "python",
   "nbconvert_exporter": "python",
   "pygments_lexer": "ipython3",
   "version": "3.10.9"
  }
 },
 "nbformat": 4,
 "nbformat_minor": 5
}
